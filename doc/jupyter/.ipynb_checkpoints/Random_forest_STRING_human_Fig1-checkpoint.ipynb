{
 "cells": [
  {
   "cell_type": "code",
   "execution_count": 1,
   "id": "d5b38383",
   "metadata": {},
   "outputs": [],
   "source": [
    "import pandas as pd\n",
    "import numpy as np\n",
    "from glob import glob\n",
    "from sklearn.ensemble import RandomForestClassifier\n",
    "from sklearn.metrics import roc_auc_score, average_precision_score\n",
    "from protlearn.features import aaindex1\n",
    "from protlearn.preprocessing import remove_unnatural\n",
    "import pickle\n",
    "        \n",
    "        \n",
    "def fasta_reader(file):\n",
    "    '''Converts .fasta to a pandas dataframe with accession as index\n",
    "    and sequence in a column 'sequence'\n",
    "    '''\n",
    "    fasta_df = pd.read_csv(file, sep='>', lineterminator='>', header=None)\n",
    "    fasta_df[['Accession', 'Sequence']] = fasta_df[0].str.split('\\n', 1, \\\n",
    "                                        expand=True)\n",
    "    fasta_df['Accession'] = fasta_df['Accession']\n",
    "    fasta_df['Sequence'] = fasta_df['Sequence'].replace('\\n', '', regex=True).\\\n",
    "                            astype(str).str.upper().replace('U', 'C')\n",
    "    total_seq = fasta_df.shape[0]\n",
    "    fasta_df.drop(0, axis=1, inplace=True)\n",
    "    fasta_df = fasta_df[fasta_df.Sequence != '']\n",
    "    fasta_df = fasta_df[fasta_df.Sequence != 'NONE']\n",
    "    final_df = fasta_df.dropna()\n",
    "    remained_seq = final_df.shape[0]\n",
    "    if total_seq != remained_seq:\n",
    "        print(\"{} sequences were removed due to inconsistencies in\"\n",
    "                      \"provided file.\".format(total_seq-remained_seq))\n",
    "    return final_df"
   ]
  },
  {
   "cell_type": "markdown",
   "id": "72b9b8ef",
   "metadata": {},
   "source": [
    "#### Compute AAindex"
   ]
  },
  {
   "cell_type": "code",
   "execution_count": 2,
   "id": "cf30df99",
   "metadata": {},
   "outputs": [],
   "source": [
    "seqs_human = fasta_reader('../dscript/Sledzieski_2021/seqs/human.fasta')\n",
    "seqs_human['Sequence'] = seqs_human.Sequence.str.replace('U','C')\n",
    "seqs_human = seqs_human[(~seqs_human.Sequence.str.contains('X')) & (~seqs_human.Sequence.str.contains('Z'))]\n",
    "aaind_human, ind = aaindex1(seqs_human.Sequence.tolist())\n",
    "seqs_human['aaind'] = list(aaind_human)\n",
    "\n",
    "hsapi = []\n",
    "for i in glob('../dscript/Sledzieski_2021/preds/fold*.txt'):\n",
    "    preds_human = pd.read_csv(i, sep='\\t')\n",
    "    human = pd.merge(pd.merge(preds_human, seqs_human.rename(columns={'Accession':'protein1'}), on='protein1'),\n",
    "                     seqs_human.rename(columns={'Accession':'protein2'}), on='protein2')\n",
    "\n",
    "    human['aaind'] = human[['aaind_x', 'aaind_y']].values.tolist()\n",
    "    human['aaind'] = human['aaind'].apply(lambda x: np.mean(x, axis=0))\n",
    "    human['Pairs'] = human[['protein1','protein2']].values.tolist()\n",
    "    human['Pairs'] = human.Pairs.apply(lambda x: '_'.join(sorted(x)))\n",
    "    hsapi.append(human)"
   ]
  },
  {
   "cell_type": "markdown",
   "id": "55dcd48a",
   "metadata": {},
   "source": [
    "#### H. sapiens (5-fold cross-validation)"
   ]
  },
  {
   "cell_type": "code",
   "execution_count": 3,
   "id": "bc2f83ed",
   "metadata": {},
   "outputs": [
    {
     "name": "stdout",
     "output_type": "stream",
     "text": [
      "CV # 4.\r"
     ]
    },
    {
     "data": {
      "text/plain": [
       "(0.7469703623372723, 0.33289439274244215)"
      ]
     },
     "execution_count": 3,
     "metadata": {},
     "output_type": "execute_result"
    }
   ],
   "source": [
    "clfs = []\n",
    "aucs = []\n",
    "\n",
    "for k, v in enumerate(hsapi):\n",
    "    h = pd.concat([v, pd.concat(hsapi)]).drop_duplicates('Pairs', keep=False).sample(frac=0.01)\n",
    "    rf = RandomForestClassifier(random_state=12345)\n",
    "    rf.fit(h.aaind.tolist(), h.interaction.tolist())\n",
    "    clfs.append(rf)\n",
    "    aucs.append([roc_auc_score(v.interaction.tolist(),\n",
    "                               rf.predict_proba(v.aaind.tolist())[:,1]),\n",
    "                 average_precision_score(v.interaction.tolist(),\n",
    "                                         rf.predict_proba(v.aaind.tolist())[:,1])])\n",
    "    print('CV # {}.'.format(k), end='\\r')\n",
    "    \n",
    "aucs = pd.DataFrame(aucs)\n",
    "aucs.columns = ['AUROC','AUPRC']\n",
    "np.mean(aucs.AUROC.tolist()), np.mean(aucs.AUPRC.tolist())"
   ]
  },
  {
   "cell_type": "markdown",
   "id": "a92bc6be",
   "metadata": {},
   "source": [
    "#### Random forest classifier trained on human PPIs"
   ]
  },
  {
   "cell_type": "code",
   "execution_count": 4,
   "id": "8e428fa0",
   "metadata": {},
   "outputs": [],
   "source": [
    "hu = pd.concat(hsapi).drop_duplicates('Pairs')\n",
    "str_clf = RandomForestClassifier(random_state=12345)\n",
    "str_clf.fit(hu.AAindex_mean.tolist(), hu.interaction.tolist())\n",
    "\n",
    "import pickle\n",
    "with open('../../clf/string_human_clf.pickle', 'wb') as handle:\n",
    "    pickle.dump(str_clf, handle)"
   ]
  },
  {
   "cell_type": "markdown",
   "id": "439d313f",
   "metadata": {},
   "source": [
    "#### Prediction across species"
   ]
  },
  {
   "cell_type": "code",
   "execution_count": 5,
   "id": "a30f8a80",
   "metadata": {},
   "outputs": [],
   "source": [
    "preds = glob('../dscript/Sledzieski_2021/preds/*')\n",
    "\n",
    "pr = []\n",
    "for i in preds:\n",
    "    pr.append(pd.read_csv(i, sep='\\t'))\n",
    "pr = pd.concat(pr)\n",
    "\n",
    "\n",
    "seqs = glob('../dscript/Sledzieski_2021/seqs/*')\n",
    "\n",
    "sp = []\n",
    "for i in seqs:\n",
    "    seq = fasta_reader(i)\n",
    "    seq['Species'] = i.split('/')[-1].split('.')[0]\n",
    "    sp.append(seq)\n",
    "\n",
    "sp = pd.concat(sp)\n",
    "sp = sp[sp.Species!='human']\n",
    "sp['Sequence'] = sp.Sequence.str.replace('U','C')\n",
    "sp = sp[~sp.Sequence.str.contains('X')]\n",
    "aaind, ind = aaindex1(sp.Sequence.tolist())\n",
    "sp['aaind'] = list(aaind)\n",
    "\n",
    "\n",
    "df = pd.merge(pd.merge(pr, sp.rename(columns={'Accession':'protein1'}), on='protein1'),\n",
    "                 sp.rename(columns={'Accession':'protein2'}), on=['protein2','Species'])\n",
    "\n",
    "df['aaind'] = df[['aaind_x', 'aaind_y']].values.tolist()\n",
    "df['aaind'] = df['aaind'].apply(lambda x: np.mean(x, axis=0))\n",
    "df['Pairs'] = df[['protein1','protein2']].values.tolist()\n",
    "df['Pairs'] = df.Pairs.apply(lambda x: '_'.join(sorted(x)))"
   ]
  },
  {
   "cell_type": "code",
   "execution_count": 6,
   "id": "14199a92",
   "metadata": {},
   "outputs": [
    {
     "data": {
      "text/html": [
       "<div>\n",
       "<style scoped>\n",
       "    .dataframe tbody tr th:only-of-type {\n",
       "        vertical-align: middle;\n",
       "    }\n",
       "\n",
       "    .dataframe tbody tr th {\n",
       "        vertical-align: top;\n",
       "    }\n",
       "\n",
       "    .dataframe thead th {\n",
       "        text-align: right;\n",
       "    }\n",
       "</style>\n",
       "<table border=\"1\" class=\"dataframe\">\n",
       "  <thead>\n",
       "    <tr style=\"text-align: right;\">\n",
       "      <th></th>\n",
       "      <th>0</th>\n",
       "      <th>1</th>\n",
       "      <th>2</th>\n",
       "    </tr>\n",
       "  </thead>\n",
       "  <tbody>\n",
       "    <tr>\n",
       "      <th>0</th>\n",
       "      <td>fly</td>\n",
       "      <td>0.787128</td>\n",
       "      <td>0.428275</td>\n",
       "    </tr>\n",
       "    <tr>\n",
       "      <th>1</th>\n",
       "      <td>mouse</td>\n",
       "      <td>0.845184</td>\n",
       "      <td>0.542195</td>\n",
       "    </tr>\n",
       "    <tr>\n",
       "      <th>2</th>\n",
       "      <td>worm</td>\n",
       "      <td>0.777248</td>\n",
       "      <td>0.419629</td>\n",
       "    </tr>\n",
       "    <tr>\n",
       "      <th>3</th>\n",
       "      <td>yeast</td>\n",
       "      <td>0.754923</td>\n",
       "      <td>0.347958</td>\n",
       "    </tr>\n",
       "    <tr>\n",
       "      <th>4</th>\n",
       "      <td>ecoli</td>\n",
       "      <td>0.786669</td>\n",
       "      <td>0.464479</td>\n",
       "    </tr>\n",
       "  </tbody>\n",
       "</table>\n",
       "</div>"
      ],
      "text/plain": [
       "       0         1         2\n",
       "0    fly  0.787128  0.428275\n",
       "1  mouse  0.845184  0.542195\n",
       "2   worm  0.777248  0.419629\n",
       "3  yeast  0.754923  0.347958\n",
       "4  ecoli  0.786669  0.464479"
      ]
     },
     "execution_count": 6,
     "metadata": {},
     "output_type": "execute_result"
    }
   ],
   "source": [
    "with open('../../clf/string_human_clf.pickle', 'rb') as handle:\n",
    "    clf = pickle.load(handle)\n",
    "\n",
    "perfs = []\n",
    "for i in df.Species.unique():\n",
    "    d = df[df.Species==i]\n",
    "    perfs.append([i, roc_auc_score(d.interaction, clf.predict_proba(d['aaind'].values.tolist())[:,1]), \\\n",
    " average_precision_score(d.interaction, clf.predict_proba(d['aaind'].values.tolist())[:,1])])\n",
    "\n",
    "perfs = pd.DataFrame(perfs)\n",
    "perfs"
   ]
  },
  {
   "cell_type": "code",
   "execution_count": null,
   "id": "abe5bba4",
   "metadata": {},
   "outputs": [],
   "source": []
  }
 ],
 "metadata": {
  "kernelspec": {
   "display_name": "Python 3",
   "language": "python",
   "name": "python3"
  },
  "language_info": {
   "codemirror_mode": {
    "name": "ipython",
    "version": 3
   },
   "file_extension": ".py",
   "mimetype": "text/x-python",
   "name": "python",
   "nbconvert_exporter": "python",
   "pygments_lexer": "ipython3",
   "version": "3.8.8"
  }
 },
 "nbformat": 4,
 "nbformat_minor": 5
}
