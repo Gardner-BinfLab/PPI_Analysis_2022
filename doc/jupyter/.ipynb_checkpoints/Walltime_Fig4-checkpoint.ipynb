{
 "cells": [
  {
   "cell_type": "code",
   "execution_count": 1,
   "id": "ee36c184",
   "metadata": {},
   "outputs": [],
   "source": [
    "import pandas as pd\n",
    "import numpy as np\n",
    "import matplotlib as mpl\n",
    "from matplotlib import pyplot as plt\n",
    "import seaborn as sns\n",
    "from protlearn.features import aaindex1\n",
    "from protlearn.preprocessing import remove_unnatural\n",
    "from datetime import datetime, timedelta\n",
    "from glob import glob\n",
    "from scipy.optimize import curve_fit\n",
    "\n",
    "\n",
    "def convert_time(t):\n",
    "    try:\n",
    "        x = datetime.strptime(t,'%M:%S.%f')\n",
    "    except Exception:\n",
    "        pass\n",
    "    try:\n",
    "        x = datetime.strptime(t,'%H:%M:%S')\n",
    "    except Exception:\n",
    "        pass\n",
    "    return timedelta(hours=x.hour, minutes=x.minute, seconds=x.second, microseconds=x.microsecond).total_seconds()\n",
    "\n",
    "\n",
    "def fasta_reader(file):\n",
    "    '''Converts .fasta to a pandas dataframe with accession as index\n",
    "    and sequence in a column 'sequence'\n",
    "    '''\n",
    "    fasta_df = pd.read_csv(file, sep='>', lineterminator='>', header=None)\n",
    "    fasta_df[['Accession', 'Sequence']] = fasta_df[0].str.split('\\n', 1, \\\n",
    "                                        expand=True)\n",
    "    fasta_df['Accession'] = fasta_df['Accession']\n",
    "    fasta_df['Sequence'] = fasta_df['Sequence'].replace('\\n', '', regex=True).\\\n",
    "                            astype(str).str.upper().replace('U', 'C')\n",
    "    total_seq = fasta_df.shape[0]\n",
    "    fasta_df.drop(0, axis=1, inplace=True)\n",
    "    fasta_df = fasta_df[fasta_df.Sequence != '']\n",
    "    fasta_df = fasta_df[fasta_df.Sequence != 'NONE']\n",
    "    final_df = fasta_df.dropna()\n",
    "    remained_seq = final_df.shape[0]\n",
    "    if total_seq != remained_seq:\n",
    "        print(\"{} sequences were removed due to inconsistencies in\"\n",
    "                      \"provided file.\".format(total_seq-remained_seq))\n",
    "    return final_df"
   ]
  },
  {
   "cell_type": "markdown",
   "id": "b6347d2a",
   "metadata": {},
   "source": [
    "### Benchmark tests on sequence lengths"
   ]
  },
  {
   "cell_type": "markdown",
   "id": "a1200bf9",
   "metadata": {},
   "source": [
    "#### Sample different sequence lengths"
   ]
  },
  {
   "cell_type": "code",
   "execution_count": 2,
   "id": "91b53468",
   "metadata": {},
   "outputs": [
    {
     "data": {
      "image/png": "[encoded data removed]",
      "text/plain": [
       "<Figure size 324x216 with 1 Axes>"
      ]
     },
     "metadata": {
      "needs_background": "light"
     },
     "output_type": "display_data"
    }
   ],
   "source": [
    "seq = fasta_reader('dbs.fasta')\n",
    "seq['Length'] = seq.Sequence.apply(lambda x: len(x))\n",
    "\n",
    "\n",
    "f, ax = plt.subplots(figsize=(4.5, 3))\n",
    "# sns.despine(f)\n",
    "\n",
    "sns.histplot(seq, x=\"Length\", bins=50, linewidth=.5, log_scale=True)\n",
    "ax.xaxis.set_major_formatter(mpl.ticker.ScalarFormatter())\n",
    "ax.set_xticks([7, 100, 1000, 10000, 35991])\n",
    "\n",
    "# Sex pheromone cCF10 (P20104)\n",
    "ax.annotate('cCF10',\n",
    "            xy=(7, 1),\n",
    "            xycoords='data',\n",
    "            xytext=(0, 50),\n",
    "            textcoords='offset points',\n",
    "            arrowprops=dict(arrowstyle='->', color='black'),\n",
    "            ha='center',\n",
    "            va='center')\n",
    "\n",
    "# human titin (Q8WZ42-12)\n",
    "ax.annotate('Titin',\n",
    "            xy=(35991, 1),\n",
    "            xycoords='data',\n",
    "            xytext=(0, 50),\n",
    "            textcoords='offset points',\n",
    "            arrowprops=dict(arrowstyle='->', color='black'),\n",
    "            ha='center',\n",
    "            va='center')\n",
    "\n",
    "plt.savefig('../../fig/length_distribution.pdf')"
   ]
  },
  {
   "cell_type": "code",
   "execution_count": 3,
   "id": "68f49f7d",
   "metadata": {},
   "outputs": [
    {
     "data": {
      "text/plain": [
       "500      146\n",
       "100      115\n",
       "1000      19\n",
       "25        10\n",
       "7          2\n",
       "35991      1\n",
       "6306       1\n",
       "26926      1\n",
       "Name: Length, dtype: int64"
      ]
     },
     "execution_count": 3,
     "metadata": {},
     "output_type": "execute_result"
    }
   ],
   "source": [
    "length = [7,25,100,500,1000,6306,26926,35991]\n",
    "\n",
    "s = pd.concat([seq[(seq.Length==i)] for i in length])\n",
    "s.Length.value_counts()"
   ]
  },
  {
   "cell_type": "code",
   "execution_count": 4,
   "id": "251d0b1d",
   "metadata": {},
   "outputs": [
    {
     "data": {
      "text/plain": [
       "[Text(0.5, 0, 'Total lengths of protein pairs')]"
      ]
     },
     "execution_count": 4,
     "metadata": {},
     "output_type": "execute_result"
    },
    {
     "data": {
      "image/png": "[encoded data removed]",
      "text/plain": [
       "<Figure size 432x216 with 1 Axes>"
      ]
     },
     "metadata": {
      "needs_background": "light"
     },
     "output_type": "display_data"
    }
   ],
   "source": [
    "dbs = pd.read_pickle('dbs.pkl.gz')\n",
    "dbs['ProteinA'] = dbs.Pairs.str.split('_').apply(lambda x: x[0])\n",
    "dbs['ProteinB'] = dbs.Pairs.str.split('_').apply(lambda x: x[1])\n",
    "a = pd.merge(dbs, s.rename(columns={'Accession':'ProteinA'}), on='ProteinA')\n",
    "b = pd.merge(dbs, s.rename(columns={'Accession':'ProteinB'}), on='ProteinB')\n",
    "h = pd.concat([a,b])\n",
    "h = h.drop_duplicates('Pairs').drop(['Sequence','Length'], axis=1).reset_index(drop=True)\n",
    "h = pd.merge(pd.merge(h, seq.rename(columns={'Accession':'ProteinA'}), on='ProteinA'),\\\n",
    "             seq.rename(columns={'Accession':'ProteinB'}), on='ProteinB')\n",
    "h['Length'] = h.Length_x + h.Length_y\n",
    "h = h.drop_duplicates('Length')\n",
    "# h[['ProteinA','ProteinB']].to_csv('pairs.tsv', sep='\\t', header=None, index=None)\n",
    "\n",
    "\n",
    "f, ax = plt.subplots(figsize=(6, 3))\n",
    "# sns.despine(f)\n",
    "\n",
    "sns.histplot(h, x=\"Length\", linewidth=.5, log_scale=True)\n",
    "ax.xaxis.set_major_formatter(mpl.ticker.ScalarFormatter())\n",
    "ax.set_xticks([100, 1000, 10000])\n",
    "ax.set(xlabel='Total lengths of protein pairs')"
   ]
  },
  {
   "cell_type": "markdown",
   "id": "a7e0ed00",
   "metadata": {},
   "source": [
    "#### Wall time for Scallion"
   ]
  },
  {
   "cell_type": "markdown",
   "id": "9f089dc8",
   "metadata": {},
   "source": [
    "````\n",
    "mkdir walltime_rf; cd walltime_rf\n",
    "split -l 1 ../pairs.tsv --additional-suffix=.tsv\n",
    "\n",
    "for i in x*.tsv; do \\\n",
    "    echo ${i}\n",
    "    /usr/bin/time -f '%E' python ../../../script/rf.py -a ../dbs.fasta -p ${i} -c ../../../clf/final_clfs.pickle\n",
    "done 2>&1 | tee rf_length_1.txt\n",
    "\n",
    "for i in *.tsv; do \\\n",
    "    echo ${i}\n",
    "    /usr/bin/time -f '%E' python ../../../script/rf.py -a ../dbs.fasta -p ${i} -c ../../../clf/final_clfs.pickle\n",
    "done 2>&1 | tee rf_length_2.txt\n",
    "\n",
    "for i in *.tsv; do \\\n",
    "    echo ${i}\n",
    "    /usr/bin/time -f '%E' python ../../../script/rf.py -a ../dbs.fasta -p ${i} -c ../../../clf/final_clfs.pickle\n",
    "done 2>&1 | tee rf_length_3.txt\n",
    "\n",
    "\n",
    "# combine results\n",
    "cd ..\n",
    "for i in 1 2 3; do \\\n",
    "    paste \\\n",
    "    <(awk '$1~/x/ {print \"cat walltime_rf/\" $1}' walltime_rf/rf_length_${i}.txt | sh) \\\n",
    "    <(awk -v n=${i} '$1~/:/ {print $1 \"\\t\" n}' walltime_rf/rf_length_${i}.txt); \n",
    "done | sed 's/\\t/_/' > walltime_rf_length.txt\n",
    "````"
   ]
  },
  {
   "cell_type": "markdown",
   "id": "0622b713",
   "metadata": {},
   "source": [
    "#### Wall time for D-SCRIPT"
   ]
  },
  {
   "cell_type": "markdown",
   "id": "5f5d3ca8",
   "metadata": {},
   "source": [
    "```\n",
    "mkdir -p walltime_dscript_1; cd walltime_dscript_1\n",
    "split -l 1 ../pairs.tsv --additional-suffix=.tsv\n",
    "for i in x*.tsv; do \\\n",
    "    echo ${i}\n",
    "    /usr/bin/time -f '%E' dscript predict --pairs ${i} --model ~/compartment/src/dscript/dscript-data/models/human_v1.sav --seqs ../dbs.fasta -o ${i%.*}.out\n",
    "done 2>&1 | tee dscript_length_1.txt\n",
    "\n",
    "cd ..\n",
    "mkdir -p walltime_dscript_2; cd walltime_dscript_2\n",
    "split -l 1 ../pairs.tsv --additional-suffix=.tsv\n",
    "for i in x*.tsv; do \\\n",
    "    echo ${i}\n",
    "    /usr/bin/time -f '%E' dscript predict --pairs ${i} --model ~/compartment/src/dscript/dscript-data/models/human_v1.sav --seqs ../dbs.fasta -o ${i%.*}.out\n",
    "done 2>&1 | tee dscript_length_2.txt\n",
    "\n",
    "cd ..\n",
    "mkdir -p walltime_dscript_3; cd walltime_dscript_3\n",
    "split -l 1 ../pairs.tsv --additional-suffix=.tsv\n",
    "for i in x*.tsv; do \\\n",
    "    echo ${i}\n",
    "    /usr/bin/time -f '%E' dscript predict --pairs ${i} --model ~/compartment/src/dscript/dscript-data/models/human_v1.sav --seqs ../dbs.fasta -o ${i%.*}.out\n",
    "done 2>&1 | tee dscript_length_3.txt\n",
    "\n",
    "\n",
    "# combine results\n",
    "\n",
    "for i in 1 2 3; do \\\n",
    "    paste \\\n",
    "    <(awk '$1~/x/ {print \"cat walltime_rf/\" $1}' walltime_rf/rf_length_${i}.txt | sh) \\\n",
    "    <(awk -v n=${i} '$1~/:/ {print $1 \"\\t\" n}' walltime_rf/rf_length_${i}.txt); \n",
    "done | sed 's/\\t/_/' > walltime_rf_length.txt\n",
    "\n",
    "for i in 1 2 3; do \\\n",
    "    paste \\\n",
    "    <(awk -v n=${i} '$1~/x/ {print \"cat walltime_dscript_\" n \"/\" $1}' walltime_dscript_${i}/dscript_length_${i}.txt | sh) \\\n",
    "    <(sed 's/s]/\\n/' walltime_dscript_${i}/dscript_length_${i}.txt | awk -v n=${i} '$1~/:/ {print $1 \"\\t\" n}')\n",
    "done | sed 's/\\t/_/' > walltime_dscript_length.txt\n",
    "```"
   ]
  },
  {
   "cell_type": "markdown",
   "id": "c3d1be75",
   "metadata": {},
   "source": [
    "#### Parse and plot wall time"
   ]
  },
  {
   "cell_type": "code",
   "execution_count": 5,
   "id": "0fbb1816",
   "metadata": {},
   "outputs": [],
   "source": [
    "df = []\n",
    "for i in glob('walltime_*_length.txt'):\n",
    "    d = pd.read_csv(i, sep='\\t', header=None)\n",
    "    d.columns = ['Pairs','Wall time (s)', 'Replicate']\n",
    "    d['Wall time (s)'] = d['Wall time (s)'].apply(convert_time)\n",
    "#     d = pd.DataFrame(d.groupby('Pairs')['Wall time (s)'].apply(np.mean)).reset_index()\n",
    "    d['Tool'] = i\n",
    "    df.append(d)\n",
    "    \n",
    "df = pd.concat(df)\n",
    "df['Tool'] = df.Tool.str.replace('walltime_rf_length.txt','Scallion', regex=True)\n",
    "df['Tool'] = df.Tool.str.replace('walltime_dscript_length.txt','D-SCRIPT', regex=True)\n",
    "df = pd.merge(h[['Pairs','Length']], df, on='Pairs')"
   ]
  },
  {
   "cell_type": "code",
   "execution_count": 6,
   "id": "23426062",
   "metadata": {},
   "outputs": [
    {
     "data": {
      "image/png": "[encoded data removed]",
      "text/plain": [
       "<Figure size 216x216 with 1 Axes>"
      ]
     },
     "metadata": {
      "needs_background": "light"
     },
     "output_type": "display_data"
    }
   ],
   "source": [
    "f, ax = plt.subplots(figsize=(3, 3))\n",
    "ax.set(xscale=\"log\", yscale=\"log\")\n",
    "sns.regplot(x='Length', y='Wall time (s)', data=df[df.Tool=='Scallion'], ax=ax, line_kws={'color':'#ADD8E6'}, scatter_kws={'facecolors':'none','alpha': 0.1})\n",
    "sns.regplot(x='Length', y='Wall time (s)', data=df[df.Tool=='D-SCRIPT'], ax=ax, line_kws={'color':'#ffa940'}, scatter_kws={'facecolors':'none','alpha': 0.1})\n",
    "ax.legend(labels=['Scallion', 'D-SCRIPT']) #, loc='center right', bbox_to_anchor=(1.7, 0.5), ncol=1)\n",
    "plt.xlabel('Sum of the lengths of protein pair')\n",
    "plt.savefig('../../fig/walltime_length.png', dpi=600, bbox_inches='tight')"
   ]
  },
  {
   "cell_type": "markdown",
   "id": "273492d4",
   "metadata": {},
   "source": [
    "### Benchmark tests on the numbers of protein pairs"
   ]
  },
  {
   "cell_type": "markdown",
   "id": "79ed19ec",
   "metadata": {},
   "source": [
    "#### Sample different sample sizes"
   ]
  },
  {
   "cell_type": "code",
   "execution_count": 2,
   "id": "063d159c",
   "metadata": {},
   "outputs": [],
   "source": [
    "dbs = pd.read_pickle('dbs.pkl.gz')\n",
    "dbs['ProteinA'] = dbs.Pairs.str.split('_').apply(lambda x: x[0])\n",
    "dbs['ProteinB'] = dbs.Pairs.str.split('_').apply(lambda x: x[1])\n",
    "\n",
    "\n",
    "n = [int(i) for i in np.logspace(0,5,6)]\n",
    "\n",
    "for i in n:\n",
    "    pr = dbs.sample(n=i, random_state=12345)[['ProteinA','ProteinB']]\n",
    "    pr.to_csv('pairs_' + str(i) + '.tsv', sep='\\t', header=None, index=None)"
   ]
  },
  {
   "cell_type": "markdown",
   "id": "252dde21",
   "metadata": {},
   "source": [
    "#### Wall time for Scallion"
   ]
  },
  {
   "cell_type": "markdown",
   "id": "d88008e5",
   "metadata": {},
   "source": [
    "````\n",
    "cd walltime_rf\n",
    "\n",
    "/usr/bin/time -f '%E' python ../../../script/rf.py\n",
    "for i in ../pairs_*.tsv; do \\\n",
    "    echo ${i}\n",
    "    /usr/bin/time -f '%E' python ../../../script/rf.py -a ../dbs.fasta -p ${i} -c ../../../clf/final_clfs.pickle\n",
    "done 2>&1 | tee rf_number_1.txt\n",
    "\n",
    "for i in ../pairs_*.tsv; do \\\n",
    "    echo ${i}\n",
    "    /usr/bin/time -f '%E' python ../../../script/rf.py -a ../dbs.fasta -p ${i} -c ../../../clf/final_clfs.pickle\n",
    "done 2>&1 | tee rf_number_2.txt\n",
    "\n",
    "for i in ../pairs_*.tsv; do \\\n",
    "    echo ${i}\n",
    "    /usr/bin/time -f '%E' python ../../../script/rf.py -a ../dbs.fasta -p ${i} -c ../../../clf/final_clfs.pickle\n",
    "done 2>&1 | tee rf_number_3.txt\n",
    "\n",
    "# combine results\n",
    "cd ..\n",
    "for i in 1 2 3; do\n",
    "    paste \\\n",
    "<(grep tsv walltime_rf/rf_number_${i}.txt | sed 's|\\.\\./pairs_||;s|.tsv||') \\\n",
    "<(awk -v n=${i} '/^[0-9]/ {print $1 \"\\t\" n}' walltime_rf/rf_number_${i}.txt)\n",
    "done > walltime_rf_number.txt\n",
    "````"
   ]
  },
  {
   "cell_type": "markdown",
   "id": "32eddc91",
   "metadata": {},
   "source": [
    "#### Wall time for D-SCRIPT"
   ]
  },
  {
   "cell_type": "markdown",
   "id": "a8822eec",
   "metadata": {},
   "source": [
    "```\n",
    "mkdir walltime_dscript; cd walltime_dscript\n",
    "\n",
    "for i in ../pairs_*.tsv; do \\\n",
    "    echo ${i}\n",
    "    /usr/bin/time -f '%E' dscript predict --pairs ${i} --model ~/compartment/src/dscript/dscript-data/models/human_v1.sav --seqs ../dbs.fasta -o ${i%.*}.out\n",
    "done 2>&1 | tee dscript_number_1.txt\n",
    "\n",
    "for i in ../pairs_*.tsv; do \\\n",
    "    echo ${i}\n",
    "    /usr/bin/time -f '%E' dscript predict --pairs ${i} --model ~/compartment/src/dscript/dscript-data/models/human_v1.sav --seqs ../dbs.fasta -o ${i%.*}.out\n",
    "done 2>&1 | tee dscript_number_2.txt\n",
    "\n",
    "for i in ../pairs_*.tsv; do \\\n",
    "    echo ${i}\n",
    "    /usr/bin/time -f '%E' dscript predict --pairs ${i} --model ~/compartment/src/dscript/dscript-data/models/human_v1.sav --seqs ../dbs.fasta -o ${i%.*}.out\n",
    "done 2>&1 | tee dscript_number_3.txt\n",
    "\n",
    "# combine results\n",
    "cd ..\n",
    "for i in 1 2 3; do\n",
    "    paste \\\n",
    "<(grep tsv walltime_dscript/dscript_number_${i}.txt | sed 's|\\.\\./pairs_||;s|.tsv||') \\\n",
    "<(sed 's/s]/\\n/g' walltime_dscript/dscript_number_${i}.txt | awk -v n=${i} '$1~/:/ {print $1 \"\\t\" n}')\n",
    "done > walltime_dscript_number.txt\n",
    "```"
   ]
  },
  {
   "cell_type": "code",
   "execution_count": 2,
   "id": "104b6f46",
   "metadata": {},
   "outputs": [],
   "source": [
    "df = []\n",
    "for i in glob('walltime_*_number.txt'):\n",
    "    d = pd.read_csv(i, sep='\\t', header=None)\n",
    "    d.columns = ['Number of protein pairs','Wall time (s)', 'Replicate']\n",
    "    d['Wall time (s)'] = d['Wall time (s)'].apply(convert_time)\n",
    "#     d = pd.DataFrame(d.groupby('Pairs')['Wall time (s)'].apply(np.mean)).reset_index()\n",
    "    d['Tool'] = i\n",
    "    df.append(d)\n",
    "    \n",
    "df = pd.concat(df)\n",
    "df['Tool'] = df.Tool.str.replace('walltime_rf_number.txt','Scallion', regex=True)\n",
    "df['Tool'] = df.Tool.str.replace('walltime_dscript_number.txt','D-SCRIPT', regex=True)"
   ]
  },
  {
   "cell_type": "code",
   "execution_count": 3,
   "id": "8e6f956f",
   "metadata": {},
   "outputs": [
    {
     "data": {
      "image/png": "[encoded data removed]",
      "text/plain": [
       "<Figure size 216x216 with 1 Axes>"
      ]
     },
     "metadata": {
      "needs_background": "light"
     },
     "output_type": "display_data"
    }
   ],
   "source": [
    "f, ax = plt.subplots(figsize=(3, 3))\n",
    "ax.set(xscale=\"log\", yscale=\"log\")\n",
    "\n",
    "sns.regplot(x='Number of protein pairs', y='Wall time (s)', data=df[df.Tool=='Scallion'], ax=ax, line_kws={'color':'#ADD8E6'}, scatter_kws={'facecolors':'none','alpha': 0.5})\n",
    "plt.scatter(df[df.Tool=='D-SCRIPT']['Number of protein pairs'], df[df.Tool=='D-SCRIPT']['Wall time (s)'], edgecolors='#ffa940', facecolors=\"none\", alpha=0.5)# palette=['#ffa940'])\n",
    "\n",
    "\n",
    "def exp_func(x, a, b):\n",
    "    return a * np.power(x, b)\n",
    "\n",
    "x = np.logspace(0,5,6)\n",
    "popt, pcov = curve_fit(exp_func, df[df.Tool=='D-SCRIPT']['Number of protein pairs'].to_numpy(), df[df.Tool=='D-SCRIPT']['Wall time (s)'].to_numpy())\n",
    "\n",
    "\n",
    "plt.plot(x, exp_func(x, *popt), '#ffa940')\n",
    "ax.legend(labels=['Scallion', 'D-SCRIPT']) #, loc='center right', bbox_to_anchor=(1.7, 0.5), ncol=1)\n",
    "\n",
    "\n",
    "major = mpl.ticker.LogLocator(base = 10.0, numticks = 5)\n",
    "ax.xaxis.set_major_locator(major)\n",
    "ax.yaxis.set_major_locator(major)\n",
    "minor = mpl.ticker.LogLocator(base = 10.0, subs = np.arange(1.0, 10.0) * 0.1, numticks = 10)\n",
    "ax.xaxis.set_minor_locator(minor)\n",
    "ax.yaxis.set_minor_locator(minor)\n",
    "\n",
    "ax.xaxis.set_minor_formatter(mpl.ticker.NullFormatter())\n",
    "ax.yaxis.set_minor_formatter(mpl.ticker.NullFormatter())\n",
    "\n",
    "ax.set_xlim([None, 1000000/2])\n",
    "ax.set_ylim([None, 10000000/2])\n",
    "\n",
    "plt.savefig('../../fig/walltime_number.pdf', bbox_inches='tight')"
   ]
  },
  {
   "cell_type": "code",
   "execution_count": 34,
   "id": "40ecefde",
   "metadata": {},
   "outputs": [
    {
     "data": {
      "text/plain": [
       "Number of protein pairs  Tool    \n",
       "1                        D-SCRIPT     0:00:24.650000\n",
       "                         Scallion     0:00:09.280000\n",
       "10                       D-SCRIPT     0:01:51.956667\n",
       "                         Scallion     0:00:09.440000\n",
       "100                      D-SCRIPT     0:18:13.223333\n",
       "                         Scallion     0:00:09.433333\n",
       "1000                     D-SCRIPT     2:44:10.666667\n",
       "                         Scallion     0:00:12.230000\n",
       "10000                    D-SCRIPT    17:16:45.666667\n",
       "                         Scallion     0:00:31.423333\n",
       "100000                   Scallion     0:02:44.883333\n",
       "Name: Wall time (s), dtype: object"
      ]
     },
     "execution_count": 34,
     "metadata": {},
     "output_type": "execute_result"
    }
   ],
   "source": [
    "df.groupby(['Number of protein pairs','Tool']).mean()['Wall time (s)']\\\n",
    ".apply(lambda x: str(timedelta(seconds=x)))"
   ]
  },
  {
   "cell_type": "code",
   "execution_count": 35,
   "id": "317d4d81",
   "metadata": {},
   "outputs": [
    {
     "data": {
      "text/plain": [
       "Number of protein pairs  Tool    \n",
       "1                        D-SCRIPT    0:00:01.736462\n",
       "                         Scallion    0:00:00.325115\n",
       "10                       D-SCRIPT    0:00:08.258113\n",
       "                         Scallion    0:00:00.424382\n",
       "100                      D-SCRIPT    0:00:48.807770\n",
       "                         Scallion    0:00:00.490951\n",
       "1000                     D-SCRIPT    0:09:03.362065\n",
       "                         Scallion    0:00:01.009356\n",
       "10000                    D-SCRIPT    0:47:00.985702\n",
       "                         Scallion    0:00:00.672409\n",
       "100000                   Scallion    0:00:03.558431\n",
       "Name: Wall time (s), dtype: object"
      ]
     },
     "execution_count": 35,
     "metadata": {},
     "output_type": "execute_result"
    }
   ],
   "source": [
    "df.groupby(['Number of protein pairs','Tool']).std()['Wall time (s)']\\\n",
    ".apply(lambda x: str(timedelta(seconds=x)))"
   ]
  },
  {
   "cell_type": "markdown",
   "id": "9c0c8435",
   "metadata": {},
   "source": [
    "#### Wall time for E. coli proteome-wide PPI prediction"
   ]
  },
  {
   "cell_type": "markdown",
   "id": "3cd11200",
   "metadata": {},
   "source": [
    "```\n",
    "cd ../walltime_rf\n",
    "/usr/bin/time -f '%E' python ../../../script/rf.py \\\n",
    "-a ../../../ref/UP000000625_83333.fasta \\\n",
    "-p m -c ../../../clf/final_clfs.pickle \\\n",
    "| awk '!seen[$1,$2]++' 2>&1 | tee rf_ecoli_1.txt\n",
    "/usr/bin/time -f '%E' python ../../../script/rf.py \\\n",
    "-a ../../../ref/UP000000625_83333.fasta \\\n",
    "-p m -c ../../../clf/final_clfs.pickle \\\n",
    "| awk '!seen[$1,$2]++' 2>&1 | tee rf_ecoli_2.txt\n",
    "/usr/bin/time -f '%E' python ../../../script/rf.py \\\n",
    "-a ../../../ref/UP000000625_83333.fasta \\\n",
    "-p m -c ../../../clf/final_clfs.pickle \\\n",
    "| awk '!seen[$1,$2]++' 2>&1 | tee rf_ecoli_3.txt\n",
    "\n",
    "# combine results\n",
    "grep \":\" rf_ecoli_*txt | sed 's/rf_ecoli_//;s/\\.txt:/\\t/' > rf_ecoli.txt\n",
    "```"
   ]
  },
  {
   "cell_type": "code",
   "execution_count": 33,
   "id": "1d0eb69a",
   "metadata": {},
   "outputs": [
    {
     "data": {
      "text/plain": [
       "('2:17:39.666667', '0:08:21.488119')"
      ]
     },
     "execution_count": 33,
     "metadata": {},
     "output_type": "execute_result"
    }
   ],
   "source": [
    "e = pd.read_csv('walltime_rf/rf_ecoli.txt', sep='\\t', header=None)\n",
    "e.columns = ['Replicate','Wall time (s)']\n",
    "e['Wall time (s)'] = e['Wall time (s)'].apply(convert_time)\n",
    "\n",
    "str(timedelta(seconds=e['Wall time (s)'].mean())), str(timedelta(seconds=e['Wall time (s)'].std()))"
   ]
  },
  {
   "cell_type": "code",
   "execution_count": null,
   "id": "48849b8b",
   "metadata": {},
   "outputs": [],
   "source": []
  }
 ],
 "metadata": {
  "kernelspec": {
   "display_name": "Python 3",
   "language": "python",
   "name": "python3"
  },
  "language_info": {
   "codemirror_mode": {
    "name": "ipython",
    "version": 3
   },
   "file_extension": ".py",
   "mimetype": "text/x-python",
   "name": "python",
   "nbconvert_exporter": "python",
   "pygments_lexer": "ipython3",
   "version": "3.8.8"
  }
 },
 "nbformat": 4,
 "nbformat_minor": 5
}
