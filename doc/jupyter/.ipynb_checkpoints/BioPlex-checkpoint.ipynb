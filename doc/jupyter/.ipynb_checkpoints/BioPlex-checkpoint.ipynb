{
 "cells": [
  {
   "cell_type": "code",
   "execution_count": 1,
   "metadata": {},
   "outputs": [],
   "source": [
    "import pandas as pd\n",
    "import numpy as np\n",
    "from protlearn.features import aaindex1\n",
    "from protlearn.preprocessing import remove_unnatural\n",
    "from bioservices import UniProt"
   ]
  },
  {
   "cell_type": "markdown",
   "metadata": {},
   "source": [
    "#### Merge HEK293T and HCT116 PPIs"
   ]
  },
  {
   "cell_type": "code",
   "execution_count": 2,
   "metadata": {},
   "outputs": [
    {
     "data": {
      "text/plain": [
       "((14947, 3), (1714911, 4))"
      ]
     },
     "execution_count": 2,
     "metadata": {},
     "output_type": "execute_result"
    }
   ],
   "source": [
    "# BioPlex positives\n",
    "t = pd.read_csv('BioPlex_293T_Network_10K_Dec_2019.tsv', sep='\\t')[['UniprotA','UniprotB']]\n",
    "h = pd.read_csv('BioPlex_HCT116_Network_5.5K_Dec_2019.tsv', sep='\\t')[['UniprotA','UniprotB']]\n",
    "th = pd.concat([t,h])\n",
    "th = th[th.duplicated()]\n",
    "th = th[th.UniprotA!='UNKNOWN']\n",
    "th['Interaction'] = 1\n",
    "\n",
    "# BioPlex negatives\n",
    "ut = pd.read_csv('BioPlex_BaitPreyPairs_noFilters_293T_10K_Dec_2019.tsv', sep='\\t')\n",
    "uh = pd.read_csv('BioPlex_BaitPreyPairs_noFilters_HCT116_5.5K_Dec_2019.tsv', sep='\\t')\n",
    "uth = pd.concat([ut[ut.pInt<0.1][['bait_geneid','db_protein_id']],uh[uh.pInt<0.1][['bait_geneid','db_protein_id']]])\n",
    "uth = uth[uth.duplicated()]\n",
    "uth['UniprotB'] = uth.db_protein_id.str.split('|').apply(lambda x: x[1])\n",
    "uth['Interaction'] = 0\n",
    "th.shape, uth.shape"
   ]
  },
  {
   "cell_type": "markdown",
   "metadata": {},
   "source": [
    "#### Map NCBI Entrez Gene IDs to UniProt accession numbers and sequences"
   ]
  },
  {
   "cell_type": "code",
   "execution_count": 3,
   "metadata": {},
   "outputs": [],
   "source": [
    "u = UniProt(verbose=False)\n",
    "\n",
    "uth_geneid = u.mapping(\"P_ENTREZGENEID\", \"ACC\", query=' '.join([str(i) for i in uth.bait_geneid.unique()]))\n",
    "uth_geneid = pd.DataFrame([(i, uth_geneid[i]) for i in uth_geneid])\n",
    "uth_geneid = uth_geneid.iloc[:-2]\n",
    "uth_geneid = uth_geneid.explode(1).drop_duplicates(1)\n",
    "uth_geneid.columns = ['bait_geneid','UniprotA']\n",
    "# uth_geneid.to_pickle('uth_geneid.pkl.gz')\n",
    "\n",
    "uniprot_id = set(list(set(th.UniprotA.unique().tolist() + \\\n",
    "                          th.UniprotB.unique().tolist())) + \\\n",
    "                      list(uth_geneid.UniprotA.unique()) + \\\n",
    "                      list(uth.UniprotB.unique()))\n",
    "uniprot_id = np.array_split(list(uniprot_id), 1446)\n",
    "uniprot_seq = pd.concat([u.get_df(list(i), limit=None) for i in uniprot_id])\n",
    "uniprot_seq = uniprot_seq.drop_duplicates('Entry')"
   ]
  },
  {
   "cell_type": "markdown",
   "metadata": {},
   "source": [
    "#### Compute AAindex"
   ]
  },
  {
   "cell_type": "code",
   "execution_count": 5,
   "metadata": {},
   "outputs": [
    {
     "data": {
      "text/plain": [
       "0    1344588\n",
       "1       8716\n",
       "Name: Interaction, dtype: int64"
      ]
     },
     "execution_count": 5,
     "metadata": {},
     "output_type": "execute_result"
    }
   ],
   "source": [
    "uniprot_seq = uniprot_seq[uniprot_seq.Status=='reviewed']\n",
    "uniprot_seq['Sequence'] = uniprot_seq.Sequence.str.replace('U','C')\n",
    "uniprot_seq = uniprot_seq[~uniprot_seq.Sequence.str.contains('X')]\n",
    "\n",
    "aaind, inds = aaindex1(uniprot_seq.Sequence.tolist())\n",
    "uniprot_seq['aaind'] = list(aaind)\n",
    "\n",
    "uth_geneid = pd.read_pickle('uth_geneid.pkl.gz')\n",
    "uth['bait_geneid'] = uth.bait_geneid.astype(int)\n",
    "uth_geneid['bait_geneid'] = uth_geneid.bait_geneid.astype(int)\n",
    "uth = pd.merge(uth_geneid, uth, on='bait_geneid')[['UniprotA','UniprotB','Interaction']]\n",
    "\n",
    "\n",
    "df_int = pd.merge(uniprot_seq.rename(columns={'Entry':'UniprotA'})[['UniprotA','Sequence','aaind']], \n",
    "                  pd.concat([th,uth]), on='UniprotA')\n",
    "df_int = pd.merge(uniprot_seq.rename(columns={'Entry':'UniprotB'})[['UniprotB','Sequence','aaind']], df_int, on='UniprotB')\n",
    "df_int = df_int.drop_duplicates(['UniprotA','UniprotB'])\n",
    "df_int['aaind'] = list(np.mean([df_int.aaind_x.tolist(), df_int.aaind_y.tolist()], axis=0))\n",
    "df_int.to_pickle('bioplex_interactions_aaindex1.pkl.gz')\n",
    "df_int.Interaction.value_counts()"
   ]
  },
  {
   "cell_type": "code",
   "execution_count": null,
   "metadata": {},
   "outputs": [],
   "source": []
  }
 ],
 "metadata": {
  "kernelspec": {
   "display_name": "Python 3",
   "language": "python",
   "name": "python3"
  },
  "language_info": {
   "codemirror_mode": {
    "name": "ipython",
    "version": 3
   },
   "file_extension": ".py",
   "mimetype": "text/x-python",
   "name": "python",
   "nbconvert_exporter": "python",
   "pygments_lexer": "ipython3",
   "version": "3.8.8"
  }
 },
 "nbformat": 4,
 "nbformat_minor": 4
}
