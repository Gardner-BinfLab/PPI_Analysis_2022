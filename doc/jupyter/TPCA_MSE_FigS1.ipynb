{
 "cells": [
  {
   "cell_type": "code",
   "execution_count": 1,
   "id": "c35a14d9",
   "metadata": {},
   "outputs": [],
   "source": [
    "from glob import glob\n",
    "import os\n",
    "import numpy as np\n",
    "import pandas as pd\n",
    "import matplotlib.pyplot as plt\n",
    "import seaborn as sns\n",
    "import similaritymeasures\n",
    "import itertools\n",
    "from multiprocessing import Pool\n",
    "from functools import partial"
   ]
  },
  {
   "cell_type": "code",
   "execution_count": 2,
   "id": "41f65d92",
   "metadata": {},
   "outputs": [],
   "source": [
    "def progress(iteration, total, message=None):\n",
    "    '''Simple progressbar\n",
    "    '''\n",
    "    if message is None:\n",
    "        message = ''\n",
    "    bars_string = int(float(iteration) / float(total) * 50.)\n",
    "    print(\"\\r|%-50s| %d%% (%s/%s) %s \"% ('█'*bars_string+ \"░\" * \\\n",
    "                                     (50 - bars_string), float(iteration)/\\\n",
    "                                     float(total) * 100, iteration, total, \\\n",
    "                                     message), end='\\r', flush=True)\n",
    "\n",
    "    if iteration == total:\n",
    "        print('\\nCompleted!')\n",
    "        \n",
    "        \n",
    "def sim(curves):\n",
    "    abc  = similaritymeasures.area_between_two_curves(curves[0][0], curves[1][0])\n",
    "    mae  = similaritymeasures.mae(curves[0][0], curves[1][0])\n",
    "    mse  = similaritymeasures.mse(curves[0][0], curves[1][0])\n",
    "    return abc, mae, mse\n",
    "\n",
    "\n",
    "\n",
    "pools = Pool()\n",
    "\n",
    "melt_curves = k562[['Melt_curve']].values.tolist()\n",
    "pair = list(itertools.combinations(melt_curves, 2))\n",
    "\n",
    "abc = []\n",
    "for result in pools.map(sim, pair):\n",
    "    print(result)\n",
    "    abc.append(result)\n",
    "#    progress(len(abc), len(pair))\n",
    "pools.close()\n",
    "pools.join()\n",
    "\n",
    "abc = pd.DataFrame(abc)\n",
    "abc.columns = ['area_between_two_curves','mae','mse']\n",
    "abc['combinations'] = list(itertools.combinations(k562.Accession.tolist(), 2))"
   ]
  },
  {
   "cell_type": "markdown",
   "id": "ea5e8e23",
   "metadata": {},
   "source": [
    "### Distributions of MSEs"
   ]
  },
  {
   "cell_type": "code",
   "execution_count": 2,
   "id": "873bac63",
   "metadata": {},
   "outputs": [
    {
     "data": {
      "text/plain": [
       "<Figure size 216x216 with 0 Axes>"
      ]
     },
     "metadata": {},
     "output_type": "display_data"
    },
    {
     "data": {
      "image/png": "[encoded data removed]",
      "text/plain": [
       "<Figure size 360x360 with 1 Axes>"
      ]
     },
     "metadata": {},
     "output_type": "display_data"
    }
   ],
   "source": [
    "degreeC = [37, 40, 43, 46, 49, 52, 55, 58, 61, 64]\n",
    "k562 = pd.read_excel('aan0346_Tables_S1_to_S18.xlsx', sheet_name='Table S7', skiprows=2)\n",
    "\n",
    "k562['Melt_curve'] = k562[['T37', 'T40', 'T43', 'T46', 'T49','T52', 'T55', 'T58', 'T61', 'T64']].values.tolist()\n",
    "k562['Melt_curve'] = k562['Melt_curve'].apply(lambda x: np.array([x, degreeC]).T)\n",
    "\n",
    "\n",
    "abc = pd.read_pickle('abc.pkl.gz')\n",
    "abc['Pairs'] = abc.combinations.apply(lambda x: '_'.join(sorted(x)))\n",
    "\n",
    "sns.set_style('whitegrid')\n",
    "plt.figure(figsize=(3,3))\n",
    "sns.displot(abc.mse)\n",
    "plt.yscale('log')\n",
    "plt.xlabel('MSE between melting curves')\n",
    "plt.savefig('all-vs-all_mse.png', bbox_inches='tight', dpi=300)"
   ]
  },
  {
   "cell_type": "markdown",
   "id": "780c80f8",
   "metadata": {},
   "source": [
    "### Distributions of annotated PPIs and MSEs"
   ]
  },
  {
   "cell_type": "code",
   "execution_count": 3,
   "id": "65e818c7",
   "metadata": {},
   "outputs": [
    {
     "data": {
      "text/html": [
       "<div>\n",
       "<style scoped>\n",
       "    .dataframe tbody tr th:only-of-type {\n",
       "        vertical-align: middle;\n",
       "    }\n",
       "\n",
       "    .dataframe tbody tr th {\n",
       "        vertical-align: top;\n",
       "    }\n",
       "\n",
       "    .dataframe thead th {\n",
       "        text-align: right;\n",
       "    }\n",
       "</style>\n",
       "<table border=\"1\" class=\"dataframe\">\n",
       "  <thead>\n",
       "    <tr style=\"text-align: right;\">\n",
       "      <th></th>\n",
       "      <th>PPI databases</th>\n",
       "      <th>Distribution 1</th>\n",
       "      <th>Distribution 2</th>\n",
       "      <th>Distribution 3</th>\n",
       "    </tr>\n",
       "  </thead>\n",
       "  <tbody>\n",
       "    <tr>\n",
       "      <th>0</th>\n",
       "      <td>BioPlex 3.0</td>\n",
       "      <td>4336</td>\n",
       "      <td>0</td>\n",
       "      <td>0</td>\n",
       "    </tr>\n",
       "    <tr>\n",
       "      <th>1</th>\n",
       "      <td>BIOGRID 4.4.204</td>\n",
       "      <td>34314</td>\n",
       "      <td>0</td>\n",
       "      <td>1</td>\n",
       "    </tr>\n",
       "    <tr>\n",
       "      <th>2</th>\n",
       "      <td>DIP 20170205</td>\n",
       "      <td>2330</td>\n",
       "      <td>0</td>\n",
       "      <td>0</td>\n",
       "    </tr>\n",
       "    <tr>\n",
       "      <th>3</th>\n",
       "      <td>IntAct 2021-10-13</td>\n",
       "      <td>92651</td>\n",
       "      <td>0</td>\n",
       "      <td>3</td>\n",
       "    </tr>\n",
       "    <tr>\n",
       "      <th>4</th>\n",
       "      <td>mentha 2021-12-20</td>\n",
       "      <td>139284</td>\n",
       "      <td>0</td>\n",
       "      <td>3</td>\n",
       "    </tr>\n",
       "    <tr>\n",
       "      <th>5</th>\n",
       "      <td>MINT 2021-12-19</td>\n",
       "      <td>14731</td>\n",
       "      <td>0</td>\n",
       "      <td>0</td>\n",
       "    </tr>\n",
       "    <tr>\n",
       "      <th>6</th>\n",
       "      <td>signor 2022-01-03</td>\n",
       "      <td>4420</td>\n",
       "      <td>0</td>\n",
       "      <td>0</td>\n",
       "    </tr>\n",
       "    <tr>\n",
       "      <th>7</th>\n",
       "      <td>STRING 11.5</td>\n",
       "      <td>97596</td>\n",
       "      <td>2</td>\n",
       "      <td>4</td>\n",
       "    </tr>\n",
       "  </tbody>\n",
       "</table>\n",
       "</div>"
      ],
      "text/plain": [
       "       PPI databases  Distribution 1  Distribution 2  Distribution 3\n",
       "0        BioPlex 3.0            4336               0               0\n",
       "1    BIOGRID 4.4.204           34314               0               1\n",
       "2       DIP 20170205            2330               0               0\n",
       "3  IntAct 2021-10-13           92651               0               3\n",
       "4  mentha 2021-12-20          139284               0               3\n",
       "5    MINT 2021-12-19           14731               0               0\n",
       "6  signor 2022-01-03            4420               0               0\n",
       "7        STRING 11.5           97596               2               4"
      ]
     },
     "execution_count": 3,
     "metadata": {},
     "output_type": "execute_result"
    }
   ],
   "source": [
    "dbs = pd.read_pickle('~/compartment/doc/heatmap/ppi_analysis/doc/jupyter/dbs.pkl.gz')\n",
    "\n",
    "clus1 = abc[(abc.area_between_two_curves <= 50) & (abc.mse < 4)]\n",
    "clus2 = abc[(abc.area_between_two_curves > 50) & (abc.mse >= 4) & (abc.mse < 8)]\n",
    "clus3 = abc[(abc.area_between_two_curves > 50) & (abc.mse >= 8)]\n",
    "\n",
    "clus_pairs = []\n",
    "\n",
    "for i in dbs.DB.unique():\n",
    "    clus_pairs.append([pd.merge(clus1, dbs[dbs.DB==i].drop_duplicates('Pairs'), on='Pairs').drop_duplicates('Pairs').shape[0], \n",
    "                       pd.merge(clus2, dbs[dbs.DB==i].drop_duplicates('Pairs'), on='Pairs').drop_duplicates('Pairs').shape[0], \n",
    "                       pd.merge(clus3, dbs[dbs.DB==i].drop_duplicates('Pairs'), on='Pairs').drop_duplicates('Pairs').shape[0]])\n",
    "    \n",
    "clus = pd.DataFrame(clus_pairs)\n",
    "clus.columns = ['Distribution 1', 'Distribution 2', 'Distribution 3']\n",
    "clus.insert(0, 'PPI databases', dbs.DB.unique())\n",
    "\n",
    "clus"
   ]
  },
  {
   "cell_type": "code",
   "execution_count": 4,
   "id": "9fd8203f",
   "metadata": {},
   "outputs": [
    {
     "data": {
      "text/plain": [
       "PPI databases     BioPlex 3.0BIOGRID 4.4.204DIP 20170205IntAct 2...\n",
       "Distribution 1                                               389662\n",
       "Distribution 2                                                    2\n",
       "Distribution 3                                                   11\n",
       "dtype: object"
      ]
     },
     "execution_count": 4,
     "metadata": {},
     "output_type": "execute_result"
    }
   ],
   "source": [
    "clus.sum()"
   ]
  },
  {
   "cell_type": "code",
   "execution_count": 5,
   "id": "cb886ad7",
   "metadata": {},
   "outputs": [
    {
     "data": {
      "text/plain": [
       "((34084890, 5), (15990, 5), (8759, 5))"
      ]
     },
     "execution_count": 5,
     "metadata": {},
     "output_type": "execute_result"
    }
   ],
   "source": [
    "clus1.shape, clus2.shape, clus3.shape "
   ]
  },
  {
   "cell_type": "code",
   "execution_count": 6,
   "id": "c5e059ea",
   "metadata": {},
   "outputs": [],
   "source": [
    "abc_pos = pd.merge(dbs[['Pairs']].drop_duplicates('Pairs'), abc, on='Pairs').drop_duplicates('Pairs')\n",
    "abc_neg = pd.concat([abc_pos,abc]).drop_duplicates('Pairs', keep=False)\n",
    "\n",
    "abc_pos['Interact'] = 1\n",
    "abc_neg['Interact'] = 0\n",
    "anno = pd.concat([abc_pos,abc_neg])"
   ]
  },
  {
   "cell_type": "markdown",
   "id": "dec8db47",
   "metadata": {},
   "source": [
    "### LazyPair STRING:full model"
   ]
  },
  {
   "cell_type": "code",
   "execution_count": 7,
   "id": "54aab479",
   "metadata": {},
   "outputs": [],
   "source": [
    "lp = pd.read_csv('lazypair_k562.out.gz', sep='\\t')\n",
    "lp['Pairs'] = lp[['Protein1','Protein2']].values.tolist()\n",
    "lp['Pairs'] = lp.Pairs.apply(lambda x: '_'.join(sorted(x)))\n",
    "\n",
    "\n",
    "full = pd.merge(lp, abc, on='Pairs').drop_duplicates('Pairs')\n",
    "full_pos = full[full['STRING:full']>0.9].copy()\n",
    "full_neg = full[full['STRING:full']<0.1].copy()\n",
    "\n",
    "full_pos['Interact'] = 1\n",
    "full_neg['Interact'] = 0\n",
    "full = pd.concat([full_pos,full_neg])"
   ]
  },
  {
   "cell_type": "markdown",
   "id": "f04af57e",
   "metadata": {},
   "source": [
    "### LazyPair STRING:binding model"
   ]
  },
  {
   "cell_type": "code",
   "execution_count": 8,
   "id": "2b06fff0",
   "metadata": {},
   "outputs": [],
   "source": [
    "bind = pd.merge(lp, abc, on='Pairs').drop_duplicates('Pairs')\n",
    "bind_pos = bind[bind['STRING:binding']>0.9].copy()\n",
    "bind_neg = bind[bind['STRING:binding']<0.1].copy()\n",
    "\n",
    "bind_pos['Interact'] = 1\n",
    "bind_neg['Interact'] = 0\n",
    "bind = pd.concat([bind_pos,bind_neg])"
   ]
  },
  {
   "cell_type": "code",
   "execution_count": 9,
   "id": "eedfc399",
   "metadata": {},
   "outputs": [
    {
     "data": {
      "image/png": "[encoded data removed]",
      "text/plain": [
       "<Figure size 216x216 with 1 Axes>"
      ]
     },
     "metadata": {},
     "output_type": "display_data"
    }
   ],
   "source": [
    "anno['Annotation'] = 'PPI databases'\n",
    "full['Annotation'] = 'STRING:full'\n",
    "bind['Annotation'] = 'STRING:binding'\n",
    "\n",
    "preds = pd.concat([anno[['Annotation','Interact','mse']], full[['Annotation','Interact','mse']], bind[['Annotation','Interact','mse']]])\n",
    "\n",
    "plt.figure(figsize=(3,3))\n",
    "sns.boxplot(data=preds, hue='Interact', y=preds.mse, x='Annotation')\n",
    "plt.yscale('log')\n",
    "plt.ylabel('MSE between melting curves')\n",
    "plt.xticks(rotation=90)\n",
    "# plt.legend(bbox_to_anchor=(1.05, 1), loc=2, borderaxespad=0.)\n",
    "plt.savefig('annotation-vs-mse_k562.png', bbox_inches='tight', dpi=300)"
   ]
  },
  {
   "cell_type": "code",
   "execution_count": null,
   "id": "70188048",
   "metadata": {},
   "outputs": [],
   "source": []
  }
 ],
 "metadata": {
  "kernelspec": {
   "display_name": "Python 3",
   "language": "python",
   "name": "python3"
  },
  "language_info": {
   "codemirror_mode": {
    "name": "ipython",
    "version": 3
   },
   "file_extension": ".py",
   "mimetype": "text/x-python",
   "name": "python",
   "nbconvert_exporter": "python",
   "pygments_lexer": "ipython3",
   "version": "3.9.9"
  }
 },
 "nbformat": 4,
 "nbformat_minor": 5
}
